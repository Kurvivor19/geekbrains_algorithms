{
 "cells": [
  {
   "cell_type": "code",
   "execution_count": 7,
   "metadata": {
    "colab": {},
    "colab_type": "code",
    "id": "zhwkeWtb1O0w"
   },
   "outputs": [],
   "source": [
    "import numpy as np\n",
    "import matplotlib.pyplot as plt"
   ]
  },
  {
   "cell_type": "code",
   "execution_count": 8,
   "metadata": {
    "colab": {},
    "colab_type": "code",
    "id": "FeKFn2yb1To4"
   },
   "outputs": [],
   "source": [
    "X = np.array([[1, 1, 1, 1, 1, 1, 1, 1, 1, 1],\n",
    "              [1, 1, 2, 1, 3, 0, 5, 10, 1, 2],\n",
    "              [500, 700, 750, 600, 1450,\n",
    "               800, 1500, 2000, 450, 1000],\n",
    "              [1, 1, 2, 1, 2, \n",
    "               1, 3, 3, 1, 2]], dtype = np.float64)\n",
    "y = np.array([0, 0, 1, 0, 1, 0, 1, 0, 1, 1], dtype = np.float64)"
   ]
  },
  {
   "cell_type": "code",
   "execution_count": 0,
   "metadata": {
    "colab": {},
    "colab_type": "code",
    "id": "fS4ZSyTrPD6V"
   },
   "outputs": [],
   "source": [
    "# Если предсказывать с помощью линейной регрессии, то могут появляться такие числа:\n",
    "-1, -0.2, 1.3, 0.05 ..."
   ]
  },
  {
   "cell_type": "code",
   "execution_count": 0,
   "metadata": {
    "colab": {},
    "colab_type": "code",
    "id": "IFlAQmfoQCqc"
   },
   "outputs": [],
   "source": [
    "p [0, 1]"
   ]
  },
  {
   "cell_type": "code",
   "execution_count": 0,
   "metadata": {
    "colab": {},
    "colab_type": "code",
    "id": "7pM_ENmXPxMN"
   },
   "outputs": [],
   "source": [
    "p / (1-p)"
   ]
  },
  {
   "cell_type": "code",
   "execution_count": 0,
   "metadata": {
    "colab": {
     "base_uri": "https://localhost:8080/",
     "height": 34
    },
    "colab_type": "code",
    "id": "OS_TUIgdPl1M",
    "outputId": "8ea131d4-87f4-4f45-8a3d-259a26e1020d"
   },
   "outputs": [
    {
     "data": {
      "text/plain": [
       "1.0"
      ]
     },
     "execution_count": 1,
     "metadata": {
      "tags": []
     },
     "output_type": "execute_result"
    }
   ],
   "source": [
    "0.5 / (1-0.5)"
   ]
  },
  {
   "cell_type": "code",
   "execution_count": 0,
   "metadata": {
    "colab": {
     "base_uri": "https://localhost:8080/",
     "height": 34
    },
    "colab_type": "code",
    "id": "J3tXMyWOPlh7",
    "outputId": "f4c0e4a0-6547-4f54-cc33-d6c9b0631733"
   },
   "outputs": [
    {
     "data": {
      "text/plain": [
       "0.010101010101010102"
      ]
     },
     "execution_count": 2,
     "metadata": {
      "tags": []
     },
     "output_type": "execute_result"
    }
   ],
   "source": [
    "0.01 / (1 - 0.01)"
   ]
  },
  {
   "cell_type": "code",
   "execution_count": 0,
   "metadata": {
    "colab": {
     "base_uri": "https://localhost:8080/",
     "height": 34
    },
    "colab_type": "code",
    "id": "q61xUBtbPlJp",
    "outputId": "a2883d59-ab30-4ebe-d342-f79542c123fd"
   },
   "outputs": [
    {
     "data": {
      "text/plain": [
       "9999.0000000011"
      ]
     },
     "execution_count": 5,
     "metadata": {
      "tags": []
     },
     "output_type": "execute_result"
    }
   ],
   "source": [
    "0.9999 / (1-0.9999)"
   ]
  },
  {
   "cell_type": "code",
   "execution_count": 0,
   "metadata": {
    "colab": {
     "base_uri": "https://localhost:8080/",
     "height": 34
    },
    "colab_type": "code",
    "id": "ImNIlxczQvf_",
    "outputId": "984af402-9b42-44d8-db18-c592475e1ab7"
   },
   "outputs": [
    {
     "data": {
      "text/plain": [
       "23.025850847100088"
      ]
     },
     "execution_count": 15,
     "metadata": {
      "tags": []
     },
     "output_type": "execute_result"
    }
   ],
   "source": [
    "p = 1-1e-10\n",
    "np.log(p / (1 - p))                       "
   ]
  },
  {
   "cell_type": "code",
   "execution_count": 0,
   "metadata": {
    "colab": {
     "base_uri": "https://localhost:8080/",
     "height": 34
    },
    "colab_type": "code",
    "id": "MvFKM0w7Rndj",
    "outputId": "362ef2f2-86bb-4f81-86f7-0c60935d0705"
   },
   "outputs": [
    {
     "data": {
      "text/plain": [
       "1.3862943611198908"
      ]
     },
     "execution_count": 16,
     "metadata": {
      "tags": []
     },
     "output_type": "execute_result"
    }
   ],
   "source": [
    "p = 0.8\n",
    "np.log(p / (1 - p))"
   ]
  },
  {
   "cell_type": "code",
   "execution_count": 0,
   "metadata": {
    "colab": {},
    "colab_type": "code",
    "id": "G74slpijQvIv"
   },
   "outputs": [],
   "source": [
    "np.log(p / (1 - p)) # (-inf, +inf)"
   ]
  },
  {
   "cell_type": "code",
   "execution_count": 0,
   "metadata": {
    "colab": {},
    "colab_type": "code",
    "id": "5GuJhwb6U-r_"
   },
   "outputs": [],
   "source": [
    "W*X = np.log(p / (1 - p))"
   ]
  },
  {
   "cell_type": "code",
   "execution_count": 0,
   "metadata": {
    "colab": {},
    "colab_type": "code",
    "id": "ZV4jZB6zU-ho"
   },
   "outputs": [],
   "source": [
    "z = W*X"
   ]
  },
  {
   "cell_type": "code",
   "execution_count": 0,
   "metadata": {
    "colab": {},
    "colab_type": "code",
    "id": "8JGK4ACFU-ah"
   },
   "outputs": [],
   "source": [
    "z = np.log(p / (1 - p))"
   ]
  },
  {
   "cell_type": "code",
   "execution_count": 0,
   "metadata": {
    "colab": {},
    "colab_type": "code",
    "id": "OXiri5MjU-Ro"
   },
   "outputs": [],
   "source": [
    "t = p / (1 - p) => t*(1-p) = p => t - t*p = p => t = p + t*p => t/p = 1 + t => p = t / (1 + t)"
   ]
  },
  {
   "cell_type": "code",
   "execution_count": 0,
   "metadata": {
    "colab": {},
    "colab_type": "code",
    "id": "UTY52T1UVihU"
   },
   "outputs": [],
   "source": [
    "p = t / (1 + t)"
   ]
  },
  {
   "cell_type": "code",
   "execution_count": 0,
   "metadata": {
    "colab": {},
    "colab_type": "code",
    "id": "7OsfBJYfViPh"
   },
   "outputs": [],
   "source": [
    "z = np.log(t) => t = e**z => e**(W*X)"
   ]
  },
  {
   "cell_type": "code",
   "execution_count": 0,
   "metadata": {
    "colab": {},
    "colab_type": "code",
    "id": "sC-bZpqIVhIl"
   },
   "outputs": [],
   "source": [
    "p = t / (1 + t) => p = e**z / (1 + e**z) => p = 1 / (1/e**z + 1) => p = 1 / (1 + e**(-z)) => p = 1/(1 + e**(-W*X))"
   ]
  },
  {
   "cell_type": "code",
   "execution_count": 0,
   "metadata": {
    "colab": {},
    "colab_type": "code",
    "id": "C427WiO3Vgpx"
   },
   "outputs": [],
   "source": [
    "p = 1/(1 + e**(-W*X))"
   ]
  },
  {
   "cell_type": "code",
   "execution_count": 0,
   "metadata": {
    "colab": {},
    "colab_type": "code",
    "id": "_BWaUIlmU-DY"
   },
   "outputs": [],
   "source": []
  },
  {
   "cell_type": "code",
   "execution_count": 5,
   "metadata": {
    "colab": {
     "base_uri": "https://localhost:8080/",
     "height": 155
    },
    "colab_type": "code",
    "id": "yXSj4nbxHsFd",
    "outputId": "8d102d54-94bf-4acc-d5b8-d60da152b953"
   },
   "outputs": [
    {
     "ename": "NameError",
     "evalue": "name 'X' is not defined",
     "output_type": "error",
     "traceback": [
      "\u001b[0;31m---------------------------------------------------------------------------\u001b[0m",
      "\u001b[0;31mNameError\u001b[0m                                 Traceback (most recent call last)",
      "\u001b[0;32m<ipython-input-5-b5fec669aca1>\u001b[0m in \u001b[0;36m<module>\u001b[0;34m\u001b[0m\n\u001b[0;32m----> 1\u001b[0;31m \u001b[0mX\u001b[0m\u001b[0;34m\u001b[0m\u001b[0m\n\u001b[0m",
      "\u001b[0;31mNameError\u001b[0m: name 'X' is not defined"
     ]
    }
   ],
   "source": [
    "X"
   ]
  },
  {
   "cell_type": "code",
   "execution_count": 0,
   "metadata": {
    "colab": {
     "base_uri": "https://localhost:8080/",
     "height": 34
    },
    "colab_type": "code",
    "id": "QU0A16vZHugZ",
    "outputId": "71d74b95-77f4-41a7-e339-c9e7b2004e4b"
   },
   "outputs": [
    {
     "data": {
      "text/plain": [
       "array([0., 0., 1., 0., 1., 0., 1., 0., 1., 1.])"
      ]
     },
     "execution_count": 4,
     "metadata": {
      "tags": []
     },
     "output_type": "execute_result"
    }
   ],
   "source": [
    "y"
   ]
  },
  {
   "cell_type": "code",
   "execution_count": 0,
   "metadata": {
    "colab": {},
    "colab_type": "code",
    "id": "M-aO1NTxOUfo"
   },
   "outputs": [],
   "source": [
    "def calc_std_feat(x):\n",
    "  res = (x - x.mean()) / x.std()\n",
    "  return res"
   ]
  },
  {
   "cell_type": "code",
   "execution_count": 9,
   "metadata": {
    "colab": {},
    "colab_type": "code",
    "id": "D8EL0iGJOVpe"
   },
   "outputs": [
    {
     "ename": "NameError",
     "evalue": "name 'calc_std_feat' is not defined",
     "output_type": "error",
     "traceback": [
      "\u001b[0;31m---------------------------------------------------------------------------\u001b[0m",
      "\u001b[0;31mNameError\u001b[0m                                 Traceback (most recent call last)",
      "\u001b[0;32m<ipython-input-9-e6fe9ee2e973>\u001b[0m in \u001b[0;36m<module>\u001b[0;34m\u001b[0m\n\u001b[1;32m      1\u001b[0m \u001b[0mX_st\u001b[0m \u001b[0;34m=\u001b[0m \u001b[0mX\u001b[0m\u001b[0;34m.\u001b[0m\u001b[0mcopy\u001b[0m\u001b[0;34m(\u001b[0m\u001b[0;34m)\u001b[0m\u001b[0;34m\u001b[0m\u001b[0m\n\u001b[0;32m----> 2\u001b[0;31m \u001b[0mX_st\u001b[0m\u001b[0;34m[\u001b[0m\u001b[0;36m2\u001b[0m\u001b[0;34m,\u001b[0m \u001b[0;34m:\u001b[0m\u001b[0;34m]\u001b[0m \u001b[0;34m=\u001b[0m \u001b[0mcalc_std_feat\u001b[0m\u001b[0;34m(\u001b[0m\u001b[0mX\u001b[0m\u001b[0;34m[\u001b[0m\u001b[0;36m2\u001b[0m\u001b[0;34m,\u001b[0m \u001b[0;34m:\u001b[0m\u001b[0;34m]\u001b[0m\u001b[0;34m)\u001b[0m\u001b[0;34m\u001b[0m\u001b[0m\n\u001b[0m",
      "\u001b[0;31mNameError\u001b[0m: name 'calc_std_feat' is not defined"
     ]
    }
   ],
   "source": [
    "X_st = X.copy()\n",
    "X_st[2, :] = calc_std_feat(X[2, :])"
   ]
  },
  {
   "cell_type": "code",
   "execution_count": 0,
   "metadata": {
    "colab": {
     "base_uri": "https://localhost:8080/",
     "height": 155
    },
    "colab_type": "code",
    "id": "gviMxz7EOuI3",
    "outputId": "af9a2576-f4d7-41d7-e216-46e0a068cfad"
   },
   "outputs": [
    {
     "data": {
      "text/plain": [
       "array([[ 1.        ,  1.        ,  1.        ,  1.        ,  1.        ,\n",
       "         1.        ,  1.        ,  1.        ,  1.        ,  1.        ],\n",
       "       [ 1.        ,  1.        ,  2.        ,  1.        ,  3.        ,\n",
       "         0.        ,  5.        , 10.        ,  1.        ,  2.        ],\n",
       "       [-0.97958969, -0.56713087, -0.46401617, -0.77336028,  0.97958969,\n",
       "        -0.36090146,  1.08270439,  2.11385144, -1.08270439,  0.05155735],\n",
       "       [ 1.        ,  1.        ,  2.        ,  1.        ,  2.        ,\n",
       "         1.        ,  3.        ,  3.        ,  1.        ,  2.        ]])"
      ]
     },
     "execution_count": 7,
     "metadata": {
      "tags": []
     },
     "output_type": "execute_result"
    }
   ],
   "source": [
    "X_st"
   ]
  },
  {
   "cell_type": "code",
   "execution_count": 15,
   "metadata": {
    "colab": {},
    "colab_type": "code",
    "id": "qMR5pOA38dDw"
   },
   "outputs": [],
   "source": [
    "def calc_logloss(y, y_pred):\n",
    "  err = - np.mean(y * np.log(y_pred) + (1.0 - y) * np.log(1.0 - y_pred))\n",
    "  return err"
   ]
  },
  {
   "cell_type": "code",
   "execution_count": 5,
   "metadata": {
    "colab": {
     "base_uri": "https://localhost:8080/",
     "height": 34
    },
    "colab_type": "code",
    "id": "R6zfOHMrBvnX",
    "outputId": "c26e639b-b7a5-414c-a920-928da0513938"
   },
   "outputs": [
    {
     "data": {
      "text/plain": [
       "0.10536051565782628"
      ]
     },
     "execution_count": 5,
     "metadata": {
      "tags": []
     },
     "output_type": "execute_result"
    }
   ],
   "source": [
    "# Пример применения\n",
    "y1 = np.array([1, 0])\n",
    "y_pred1 = np.array([0.9, 0.1])\n",
    "calc_logloss(y1, y_pred1)"
   ]
  },
  {
   "cell_type": "code",
   "execution_count": 11,
   "metadata": {
    "colab": {},
    "colab_type": "code",
    "id": "EEF9rWPNDnss"
   },
   "outputs": [],
   "source": [
    "def sigmoid(z):\n",
    "  res = 1 / (1 + np.exp(-z))\n",
    "  return res"
   ]
  },
  {
   "cell_type": "code",
   "execution_count": 7,
   "metadata": {
    "colab": {
     "base_uri": "https://localhost:8080/",
     "height": 224
    },
    "colab_type": "code",
    "id": "_9tN8lBEEeXU",
    "outputId": "6453ffee-0282-4363-b690-702fb4b0a70e"
   },
   "outputs": [
    {
     "data": {
      "text/plain": [
       "array([-10. ,  -9.8,  -9.6,  -9.4,  -9.2,  -9. ,  -8.8,  -8.6,  -8.4,\n",
       "        -8.2,  -8. ,  -7.8,  -7.6,  -7.4,  -7.2,  -7. ,  -6.8,  -6.6,\n",
       "        -6.4,  -6.2,  -6. ,  -5.8,  -5.6,  -5.4,  -5.2,  -5. ,  -4.8,\n",
       "        -4.6,  -4.4,  -4.2,  -4. ,  -3.8,  -3.6,  -3.4,  -3.2,  -3. ,\n",
       "        -2.8,  -2.6,  -2.4,  -2.2,  -2. ,  -1.8,  -1.6,  -1.4,  -1.2,\n",
       "        -1. ,  -0.8,  -0.6,  -0.4,  -0.2,   0. ,   0.2,   0.4,   0.6,\n",
       "         0.8,   1. ,   1.2,   1.4,   1.6,   1.8,   2. ,   2.2,   2.4,\n",
       "         2.6,   2.8,   3. ,   3.2,   3.4,   3.6,   3.8,   4. ,   4.2,\n",
       "         4.4,   4.6,   4.8,   5. ,   5.2,   5.4,   5.6,   5.8,   6. ,\n",
       "         6.2,   6.4,   6.6,   6.8,   7. ,   7.2,   7.4,   7.6,   7.8,\n",
       "         8. ,   8.2,   8.4,   8.6,   8.8,   9. ,   9.2,   9.4,   9.6,\n",
       "         9.8,  10. ])"
      ]
     },
     "execution_count": 7,
     "metadata": {
      "tags": []
     },
     "output_type": "execute_result"
    }
   ],
   "source": [
    "z = np.linspace(-10, 10, 101)\n",
    "z"
   ]
  },
  {
   "cell_type": "code",
   "execution_count": 0,
   "metadata": {
    "colab": {},
    "colab_type": "code",
    "id": "nvIe3RpbEp4l"
   },
   "outputs": [],
   "source": [
    "probabilities = sigmoid(z)"
   ]
  },
  {
   "cell_type": "code",
   "execution_count": 0,
   "metadata": {
    "colab": {
     "base_uri": "https://localhost:8080/",
     "height": 283
    },
    "colab_type": "code",
    "id": "jQsCfht0Et1V",
    "outputId": "687fdef8-c8f3-4c59-baa4-5e3fab7f67c1"
   },
   "outputs": [
    {
     "data": {
      "text/plain": [
       "[<matplotlib.lines.Line2D at 0x7fa45e6d0a58>]"
      ]
     },
     "execution_count": 22,
     "metadata": {
      "tags": []
     },
     "output_type": "execute_result"
    },
    {
     "data": {
      "image/png": "[encoded data removed]",
      "text/plain": [
       "<Figure size 432x288 with 1 Axes>"
      ]
     },
     "metadata": {
      "tags": []
     },
     "output_type": "display_data"
    }
   ],
   "source": [
    "plt.plot(z, probabilities)"
   ]
  },
  {
   "cell_type": "code",
   "execution_count": 0,
   "metadata": {
    "colab": {},
    "colab_type": "code",
    "id": "e6TH-mkPItb6"
   },
   "outputs": [],
   "source": [
    "### Logistic Regression"
   ]
  },
  {
   "cell_type": "code",
   "execution_count": 3,
   "metadata": {
    "colab": {},
    "colab_type": "code",
    "id": "qtgUN3LW-UIq"
   },
   "outputs": [],
   "source": [
    "def eval_model(X, y, iterations, alpha=1e-4):\n",
    "  np.random.seed(42)\n",
    "  W = np.random.randn(X.shape[0])\n",
    "  n = X.shape[1]\n",
    "  for i in range(1, iterations+1):\n",
    "    z = np.dot(W, X)\n",
    "    y_pred = sigmoid(z)\n",
    "    err = calc_logloss(y, y_pred)\n",
    "    W -= alpha * (1/n * np.dot((y_pred - y), X.T))\n",
    "    if i % (iterations / 10) == 0:\n",
    "      print(i, W, err)\n",
    "  return W"
   ]
  },
  {
   "cell_type": "code",
   "execution_count": 0,
   "metadata": {
    "colab": {
     "base_uri": "https://localhost:8080/",
     "height": 190
    },
    "colab_type": "code",
    "id": "oqX7loklBmYZ",
    "outputId": "f4849295-1f14-40d8-c8f2-d1b002e130c5"
   },
   "outputs": [
    {
     "name": "stdout",
     "output_type": "stream",
     "text": [
      "100 [ 0.49282748 -0.15007528  0.64748973  1.51727915] 1.2014814214705334\n",
      "200 [ 0.48896219 -0.16184918  0.64728128  1.51155738] 1.1828456288538924\n",
      "300 [ 0.48511874 -0.17358386  0.64706349  1.50586552] 1.1643525542846556\n",
      "400 [ 0.4812976  -0.18527698  0.64683669  1.50020462] 1.1460086359433084\n",
      "500 [ 0.47749927 -0.19692597  0.64660127  1.4945758 ] 1.127820879406358\n",
      "600 [ 0.47372426 -0.20852799  0.6463577   1.48898028] 1.109796908143704\n",
      "700 [ 0.46997312 -0.22007992  0.6461065   1.48341934] 1.0919450148769096\n",
      "800 [ 0.46624642 -0.23157833  0.64584825  1.47789438] 1.074274212586137\n",
      "900 [ 0.46254476 -0.24301946  0.64558365  1.4724069 ] 1.0567942835649755\n",
      "1000 [ 0.45886878 -0.25439917  0.64531344  1.46695851] 1.0395158244739489\n"
     ]
    }
   ],
   "source": [
    "W = eval_model(X_st, y, iterations=1000, alpha=1e-4)"
   ]
  },
  {
   "cell_type": "code",
   "execution_count": 0,
   "metadata": {
    "colab": {},
    "colab_type": "code",
    "id": "jp0AQlnkRBWC"
   },
   "outputs": [],
   "source": [
    "from sklearn.linear_model import LogisticRegression as LR"
   ]
  },
  {
   "cell_type": "code",
   "execution_count": 0,
   "metadata": {
    "colab": {},
    "colab_type": "code",
    "id": "GQfE_i9rbItN"
   },
   "outputs": [],
   "source": [
    "LR?"
   ]
  },
  {
   "cell_type": "markdown",
   "metadata": {
    "colab": {},
    "colab_type": "code",
    "id": "Mbwxo9NqbLJy"
   },
   "source": [
    "1. Измените функцию calc_logloss так, чтобы нули по возможности не попадали в np.log.  "
   ]
  },
  {
   "cell_type": "code",
   "execution_count": 33,
   "metadata": {},
   "outputs": [],
   "source": [
    "# минимальное число, замещающее 0\n",
    "PROB_EPSILON = 1e-10\n",
    "\n",
    "def epsilon_fit(y):\n",
    "    '''\n",
    "    Fit given value between 0 and 1 to the interval of PROB_EPSILON to 1 - PROB_EPSILON\n",
    "    '''\n",
    "    return y * (1 - 2 * PROB_EPSILON) + PROB_EPSILON\n",
    "\n",
    "def calc_logloss(y, y_pred):\n",
    "  y_pred = epsilon_fit(y_pred)\n",
    "  err = - np.mean(y * np.log(y_pred) + (1.0 - y) * np.log(1.0 - y_pred))\n",
    "  return err"
   ]
  },
  {
   "cell_type": "markdown",
   "metadata": {},
   "source": [
    "2. Подберите аргументы функции eval_model для логистической регрессии таким образом, чтобы log loss был минимальным."
   ]
  },
  {
   "cell_type": "code",
   "execution_count": 31,
   "metadata": {},
   "outputs": [
    {
     "name": "stdout",
     "output_type": "stream",
     "text": [
      "300 [ 0.49656415 -0.1386543   0.50968854  1.52281986] 11.512925423650046\n",
      "600 [ 0.49641415 -0.1390443   0.37168854  1.52260986] 11.512925423650046\n",
      "900 [ 0.49626415 -0.1394343   0.23368854  1.52239986] 11.512925423650046\n",
      "1200 [ 0.49611415 -0.1398243   0.09568854  1.52218986] 11.512925423650046\n",
      "1500 [ 0.49600071 -0.14009687 -0.00243035  1.52204463] 0.6047454624503132\n",
      "1800 [ 0.49597611 -0.1400782  -0.00243041  1.52205868] 0.604741624023311\n",
      "2100 [ 0.4959515  -0.14005954 -0.00243047  1.52207274] 0.6047377862216883\n",
      "2400 [ 0.49592689 -0.14004088 -0.00243053  1.5220868 ] 0.6047339490452495\n",
      "2700 [ 0.49590229 -0.14002223 -0.00243059  1.52210085] 0.604730112493799\n",
      "3000 [ 0.49587768 -0.14000358 -0.00243065  1.52211491] 0.6047262765671415\n",
      "300 [ 0.49600065 -0.14009676 -0.00243035  1.52204465] 0.604745500507035\n",
      "600 [ 0.49587761 -0.14000347 -0.00243065  1.52211493] 0.6047263145871877\n",
      "900 [ 0.4957546  -0.13991028 -0.00243094  1.5221852 ] 0.6047071442823551\n",
      "1200 [ 0.49563161 -0.13981718 -0.00243123  1.52225548] 0.6046879895681293\n",
      "1500 [ 0.49550864 -0.13972419 -0.00243152  1.52232575] 0.604668850420137\n",
      "1800 [ 0.49538569 -0.13963128 -0.00243182  1.52239602] 0.6046497268140371\n",
      "2100 [ 0.49526277 -0.13953848 -0.00243211  1.52246629] 0.6046306187255237\n",
      "2400 [ 0.49513986 -0.13944576 -0.0024324   1.52253655] 0.6046115261303232\n",
      "2700 [ 0.49501697 -0.13935315 -0.00243269  1.52260682] 0.6045924490041966\n",
      "3000 [ 0.49489411 -0.13926063 -0.00243299  1.52267708] 0.6045733873229375\n",
      "300 [ 0.49591265 -0.14015326 -0.00414983  1.52215009] 0.8479269461049375\n",
      "600 [ 0.49573584 -0.14024078 -0.0041497   1.52236269] 0.8478760865111374\n",
      "900 [ 0.49555903 -0.14032825 -0.00414957  1.52257527] 0.8478252413922703\n",
      "1200 [ 0.49538221 -0.14041567 -0.00414945  1.52278785] 0.8477744107390034\n",
      "1500 [ 0.49520538 -0.14050303 -0.00414932  1.52300041] 0.8477235945420025\n",
      "1800 [ 0.49502854 -0.14059034 -0.0041492   1.52321296] 0.8476727927919356\n",
      "2100 [ 0.4948517  -0.1406776  -0.00414907  1.5234255 ] 0.8476220054794714\n",
      "2400 [ 0.49467485 -0.1407648  -0.00414894  1.52363803] 0.8475712325952787\n",
      "2700 [ 0.49449798 -0.14085196 -0.00414882  1.52385055] 0.8475204741300273\n",
      "3000 [ 0.49432111 -0.14093906 -0.00414869  1.52406306] 0.8474697300743881\n",
      "300 [ 0.49541447 -0.14081039  0.01654253  1.52334483] 1.8383822145212811\n",
      "600 [ 0.49472976 -0.14163956  0.01654237  1.52474396] 1.8384827973316067\n",
      "900 [ 0.49404508 -0.14246873  0.01654221  1.52614308] 1.8385834475265075\n",
      "1200 [ 0.49336042 -0.14329787  0.01654204  1.52754218] 1.838684165065154\n",
      "1500 [ 0.49267579 -0.14412701  0.01654188  1.52894127] 1.8387849499068636\n",
      "1800 [ 0.49199117 -0.14495613  0.01654172  1.53034034] 1.8388858020111312\n",
      "2100 [ 0.49130658 -0.14578523  0.01654155  1.5317394 ] 1.8389867213376114\n",
      "2400 [ 0.49062201 -0.14661433  0.01654139  1.53313845] 1.839087707846118\n",
      "2700 [ 0.48993746 -0.14744341  0.01654123  1.53453749] 1.839188761496627\n",
      "3000 [ 0.48925294 -0.14827247  0.01654106  1.53593651] 1.8392898822492931\n"
     ]
    },
    {
     "data": {
      "text/plain": [
       "<matplotlib.legend.Legend at 0x7fe2f4d24780>"
      ]
     },
     "execution_count": 31,
     "metadata": {},
     "output_type": "execute_result"
    },
    {
     "data": {
      "image/png": "[encoded data removed]",
      "text/plain": [
       "<Figure size 432x288 with 1 Axes>"
      ]
     },
     "metadata": {
      "needs_background": "light"
     },
     "output_type": "display_data"
    }
   ],
   "source": [
    "epsilon_values = [1e-6, 5e-6, 1e-5, 5e-5]\n",
    "\n",
    "def eval_model_err(X, y, iterations, alpha=1e-4):\n",
    "  np.random.seed(42)\n",
    "  W = np.random.randn(X.shape[0])\n",
    "  errors = np.zeros(iterations)\n",
    "  n = X.shape[1]\n",
    "  for i in range(1, iterations+1):\n",
    "    z = np.dot(W, X)\n",
    "    y_pred = sigmoid(z)\n",
    "    err = calc_logloss(y, y_pred)\n",
    "    errors[i-1] = err\n",
    "    W -= alpha * (1/n * np.dot((y_pred - y), X.T))\n",
    "    if i % (iterations / 10) == 0:\n",
    "      print(i, W, err)\n",
    "  return errors\n",
    "\n",
    "idx = range(0, 3000)\n",
    "plt.grid()\n",
    "for epsilon in epsilon_values:\n",
    "    err = eval_model_err(X_st, y, 3000, epsilon)\n",
    "    plt.plot(idx, err, label=\"alpha at {}\".format(epsilon))\n",
    "plt.legend()"
   ]
  },
  {
   "cell_type": "code",
   "execution_count": null,
   "metadata": {},
   "outputs": [],
   "source": [
    "# по графику можно сделать вывод, что лучшие величины таковы:\n",
    "# alpha = 5e-6\n",
    "# iterations = 500"
   ]
  },
  {
   "cell_type": "markdown",
   "metadata": {},
   "source": [
    "3. Создайте функцию calc_pred_proba, возвращающую предсказанную вероятность класса 1 (на вход подаются W, который уже посчитан функцией eval_model и X, на выходе - массив y_pred_proba)."
   ]
  },
  {
   "cell_type": "code",
   "execution_count": 37,
   "metadata": {},
   "outputs": [],
   "source": [
    "def calc_pred_proba(X, W):\n",
    "  z = np.dot(W, X)\n",
    "  y_pred_proba = sigmoid(z)\n",
    "  return y_pred_proba"
   ]
  },
  {
   "cell_type": "markdown",
   "metadata": {},
   "source": [
    "4. Создайте функцию calc_pred, возвращающую предсказанный класс (на вход подаются W, который уже посчитан функцией eval_model и X, на выходе - массив y_pred)."
   ]
  },
  {
   "cell_type": "code",
   "execution_count": 62,
   "metadata": {},
   "outputs": [],
   "source": [
    "# set after evaluating results\n",
    "TRESHOLD = 0.6\n",
    "\n",
    "def calc_pred(X, W):\n",
    "    return (1 if y_prob > TRESHOLD else 0 for y_prob in calc_pred_proba(X, W))"
   ]
  },
  {
   "cell_type": "markdown",
   "metadata": {},
   "source": [
    "5. Посчитайте Accuracy, матрицу ошибок, точность и полноту, а также F1 score."
   ]
  },
  {
   "cell_type": "code",
   "execution_count": 43,
   "metadata": {},
   "outputs": [],
   "source": [
    "def eval_predictions(y, y_pred):\n",
    "  Acc = 0\n",
    "  TP = 0\n",
    "  FP = 0\n",
    "  FN = 0\n",
    "  TN = 0\n",
    "  for v, v_pred in zip(y, y_pred):\n",
    "    Acc += 1 if v == v_pred else 0\n",
    "    if v == 1:\n",
    "      if v_pred == 1:\n",
    "        TP += 1\n",
    "      else:\n",
    "        FN += 1\n",
    "    else:\n",
    "      if v_pred == 1:\n",
    "        FP += 1\n",
    "      else:\n",
    "        TN += 1\n",
    "  Acc = float(Acc) / len(y)\n",
    "  Prec = float(TP) / (TP + FP)\n",
    "  Rec = float(TP) / (TP + FN)\n",
    "  F1 = 2 * Prec * Rec / (Prec + Rec)\n",
    "  return (Acc, Prec, Rec, F1, TP, FP, FN, TN)                    "
   ]
  },
  {
   "cell_type": "code",
   "execution_count": 63,
   "metadata": {},
   "outputs": [
    {
     "name": "stdout",
     "output_type": "stream",
     "text": [
      "50 [ 0.49658915 -0.1385893   0.53268854  1.52285486] 11.512925423650046\n",
      "100 [ 0.49646415 -0.1389143   0.41768854  1.52267986] 11.512925423650046\n",
      "150 [ 0.49633915 -0.1392393   0.30268854  1.52250486] 11.512925423650046\n",
      "200 [ 0.49621415 -0.1395643   0.18768854  1.52232986] 11.512925423650046\n",
      "250 [ 0.49608915 -0.1398893   0.07268854  1.52215486] 11.512925423650046\n",
      "300 [ 0.49600065 -0.14009676 -0.00243035  1.52204465] 0.604745500507035\n",
      "350 [ 0.49598014 -0.14008121 -0.0024304   1.52205636] 0.6047423017683143\n",
      "400 [ 0.49595963 -0.14006566 -0.00243045  1.52206807] 0.6047391034639096\n",
      "450 [ 0.49593913 -0.14005011 -0.0024305   1.52207979] 0.6047359055937076\n",
      "500 [ 0.49591862 -0.14003456 -0.00243055  1.5220915 ] 0.6047327081575955\n"
     ]
    },
    {
     "data": {
      "text/plain": [
       "(0.7, 0.6666666666666666, 0.8, 0.7272727272727272, 4, 2, 1, 3)"
      ]
     },
     "execution_count": 63,
     "metadata": {},
     "output_type": "execute_result"
    }
   ],
   "source": [
    "# with redefined calc_logloss\n",
    "W = eval_model(X_st, y, iterations=500, alpha=5e-6)\n",
    "\n",
    "y_pred = calc_pred(X_st, W)\n",
    "eval_predictions(y, y_pred)"
   ]
  },
  {
   "cell_type": "markdown",
   "metadata": {},
   "source": [
    "6. Могла ли модель переобучиться? Почему?"
   ]
  },
  {
   "cell_type": "code",
   "execution_count": 64,
   "metadata": {},
   "outputs": [],
   "source": [
    "# Переобучение модели вполне возможно, как и при любом другом методе машинного обучения"
   ]
  },
  {
   "cell_type": "markdown",
   "metadata": {},
   "source": [
    "7. Создайте функции eval_model_l1 и eval_model_l2 с применением L1 и L2 регуляризаций соответственно."
   ]
  },
  {
   "cell_type": "code",
   "execution_count": 65,
   "metadata": {},
   "outputs": [],
   "source": [
    "from math import copysign\n",
    "signum = np.vectorize(lambda v: copysign(1.0, v))\n",
    "\n",
    "def eval_model_l1(X, y, iterations, alpha=1e-4, lambda_=1e-8):\n",
    "  np.random.seed(42)\n",
    "  W = np.random.randn(X.shape[0])\n",
    "  n = X.shape[1]\n",
    "  for i in range(1, iterations+1):\n",
    "    z = np.dot(W, X)\n",
    "    y_pred = sigmoid(z)\n",
    "    err = calc_logloss(y, y_pred)\n",
    "    W -= alpha * (1/n * np.dot((y_pred - y), X.T) + lambda_ * signum(W))\n",
    "    if i % (iterations / 10) == 0:\n",
    "      print(i, W, err)\n",
    "  return W"
   ]
  },
  {
   "cell_type": "code",
   "execution_count": 66,
   "metadata": {},
   "outputs": [],
   "source": [
    "def eval_model_l2(X, y, iterations, alpha=1e-4, lambda_=1e-8):\n",
    "  np.random.seed(42)\n",
    "  W = np.random.randn(X.shape[0])\n",
    "  n = X.shape[1]\n",
    "  for i in range(1, iterations+1):\n",
    "    z = np.dot(W, X)\n",
    "    y_pred = sigmoid(z)\n",
    "    err = calc_logloss(y, y_pred)\n",
    "    W -= alpha * (1/n * np.dot((y_pred - y), X.T) + lambda_ * W)\n",
    "    if i % (iterations / 10) == 0:\n",
    "      print(i, W, err)\n",
    "  return W"
   ]
  }
 ],
 "metadata": {
  "colab": {
   "collapsed_sections": [],
   "name": "Lesson3_.ipynb",
   "provenance": []
  },
  "kernelspec": {
   "display_name": "Python 3",
   "language": "python",
   "name": "python3"
  },
  "language_info": {
   "codemirror_mode": {
    "name": "ipython",
    "version": 3
   },
   "file_extension": ".py",
   "mimetype": "text/x-python",
   "name": "python",
   "nbconvert_exporter": "python",
   "pygments_lexer": "ipython3",
   "version": "3.5.2"
  }
 },
 "nbformat": 4,
 "nbformat_minor": 1
}
